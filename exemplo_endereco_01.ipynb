{
 "cells": [
  {
   "cell_type": "code",
   "execution_count": null,
   "id": "3282fa6a",
   "metadata": {},
   "outputs": [
    {
     "name": "stdout",
     "output_type": "stream",
     "text": [
      "DataFrame com campo 'endereco' como objeto JSON:\n",
      "             nome                                           endereco\n",
      "0      João Silva  {'rua': 'Rua das Flores, 123', 'cidade': 'São ...\n",
      "1  Maria Oliveira  {'rua': 'Avenida do Sol, 45', 'cidade': 'Rio d...\n",
      "\n",
      "==================================================\n",
      "\n",
      "Cidade do primeiro registro: São Paulo\n",
      "\n",
      "DataFrame com o campo 'endereco' expandido em colunas:\n",
      "             nome                  rua          cidade estado        cep\n",
      "0      João Silva  Rua das Flores, 123       São Paulo     SP  01234-567\n",
      "1  Maria Oliveira   Avenida do Sol, 45  Rio de Janeiro     RJ  98765-432\n"
     ]
    }
   ],
   "source": [
    "import pandas as pd\n",
    "import json\n",
    "\n",
    "# Criando os dados\n",
    "data = {\n",
    "    'nome': ['João Silva', 'Maria Oliveira'],\n",
    "    'endereco': [\n",
    "        {\n",
    "            'rua': 'Rua das Flores, 123',\n",
    "            'cidade': 'São Paulo',\n",
    "            'estado': 'SP',\n",
    "            'cep': '01234-567'\n",
    "        },\n",
    "        {\n",
    "            'rua': 'Avenida do Sol, 45',\n",
    "            'cidade': 'Rio de Janeiro',\n",
    "            'estado': 'RJ',\n",
    "            'cep': '98765-432'\n",
    "        }\n",
    "    ]\n",
    "}\n",
    "\n",
    "# Criando o DataFrame\n",
    "df = pd.DataFrame(data)\n",
    "\n",
    "print(\"DataFrame com campo 'endereco' como objeto JSON:\")\n",
    "print(df)\n",
    "\n",
    "print(\"\\n\" + \"=\"*50 + \"\\n\")\n",
    "\n",
    "# Para acessar elementos dentro do JSON, você pode usar o método .loc\n",
    "# ou a notação de dicionário, dependendo de como você quer extrair.\n",
    "# Por exemplo, para ver a cidade do primeiro registro:\n",
    "print(f\"Cidade do primeiro registro: {df.loc[0, 'endereco']['cidade']}\")\n",
    "\n",
    "# Você pode expandir o campo JSON em novas colunas (útil para análise)\n",
    "df_expanded_address = pd.json_normalize(df['endereco'])\n",
    "df_final = pd.concat([df['nome'], df_expanded_address], axis=1)\n",
    "\n",
    "print(\"\\nDataFrame com o campo 'endereco' expandido em colunas:\")\n",
    "print(df_final)"
   ]
  }
 ],
 "metadata": {
  "kernelspec": {
   "display_name": "Python 3",
   "language": "python",
   "name": "python3"
  },
  "language_info": {
   "codemirror_mode": {
    "name": "ipython",
    "version": 3
   },
   "file_extension": ".py",
   "mimetype": "text/x-python",
   "name": "python",
   "nbconvert_exporter": "python",
   "pygments_lexer": "ipython3",
   "version": "3.12.2"
  }
 },
 "nbformat": 4,
 "nbformat_minor": 5
}
